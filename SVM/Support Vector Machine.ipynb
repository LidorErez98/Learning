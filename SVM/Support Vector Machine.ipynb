{
 "cells": [
  {
   "cell_type": "code",
   "execution_count": 368,
   "metadata": {},
   "outputs": [],
   "source": [
    "import numpy as np\n",
    "import pandas as pd\n",
    "import matplotlib.pyplot as plt\n",
    "import time\n",
    "from sklearn.datasets import load_iris\n",
    "from sklearn.metrics import roc_curve,f1_score"
   ]
  },
  {
   "cell_type": "markdown",
   "metadata": {},
   "source": [
    "# Introduction\n",
    "\n",
    "Support Vector Machine (SVM) is a supervised machine learning algorithm which finds a hyperplane that separates the data into classes. The hyperplane is chosen in such a way that it maximizes the margin between the classes. However, sometimes the example data is not linear separable. In such cases, the SVM algorithm can be extended to use a kernel function to map the data into a higher-dimensional space where it can be linearly separated.  \n",
    "\n",
    "The main goal of this notebook is to understand the SVM algorithm and how it works.\n",
    "\n",
    "The operative objectives of this notebook are:\n",
    "\n",
    "1. To implement the SVM algorithm using the numpy library.\n",
    "2. To implement the Sequential Minimal Optimization algorithm using the numpy library.\n",
    "3. To visualize the decision boundary of the SVM algorithm.\n",
    "\n",
    "Note that this notebook does not talk about the hyperparameter optimization of the algorithm or how to choose the kernel function. "
   ]
  },
  {
   "cell_type": "markdown",
   "metadata": {},
   "source": [
    "# Mathematical Background\n",
    "\n",
    "As mentioned above, SVM is an algorithm that finds a hyperplane that maximizes the margin between the two classes. The margin is the distance between the hyperplane and the nearest data point from either class, which is called a support vector."
   ]
  },
  {
   "cell_type": "markdown",
   "metadata": {},
   "source": [
    "## Hyperplane and Margin\n",
    "The hyperplane is defined as:\n",
    "\n",
    "$$w^Tx + b = 0$$\n",
    "\n",
    "where $w$ is the normal vector to the hyperplane and $b$ is the bias term. The distance between the hyperplane and the data point $x$ is given by:\n",
    "\n",
    "$$\\frac{|w^Tx + b|}{||w||}$$\n",
    "\n",
    "The margin is given by:\n",
    "\n",
    "$$\\frac{2}{||w||}$$\n",
    "\n",
    "## Desicion Boundary\n",
    "\n",
    "The desicion boundary is given by:\n",
    "\n",
    "$$w^Tx + b \\geq 0$$\n",
    "\n",
    "If $w^Tx + b \\geq 0$ then the data point $x$ belongs to class 1, otherwise it belongs to class 2. However, the desicion boundary is not enough to maximize the margin and might make points lie on the hyperplane. To avoid this, we introduce the constraints:\n",
    "\n",
    "$$w^Tx_- + b \\leq -1$$\n",
    "$$w^Tx_+ + b \\geq 1$$\n",
    "\n",
    "where $x_-$ and $x_+$ are the nearest data points from the negative and positive classes respectively.\n",
    "However, solving these two equations might be mathematically inconvenient. Fortunately, we can combine these two equations into one by defining $y_i = -1$ for the negative examples and $y_i = +1$ for the positive examples and by multiplying each constraint by $y_i$ we get:\n",
    "\n",
    "if $y_i = -1$ then $y_i(w^Tx_i + b) \\leq -1 \\rightarrow y_i(w^Tx_i + b) \\geq 1$ \n",
    "if $y_i = 1$ then $y_i(w^Tx_i + b) \\geq 1$ remains the same.\n",
    "\n",
    "As a result, we get $y_i(w^Tx_i + b) \\geq 1$ for all examples, and we can use this combined constraint in the optimization problem for both classes."
   ]
  },
  {
   "cell_type": "markdown",
   "metadata": {},
   "source": [
    "## Optimization Problem\n",
    "\n",
    "To find the hyperplane the maximizes the margin we can solve the following optimization problem:\n",
    "\n",
    "$$\\text{minimize} \\quad \\frac{1}{2}||w||^2$$\n",
    "\n",
    "subject to the constraints:\n",
    "\n",
    "$$y_i(w^Tx_i + b) \\geq 1 \\quad \\text{for} \\quad i = 1,2,...,l$$\n",
    "\n",
    "where $l$ is the number of training examples. So, we have a constraint and an optimization problem thus we can use the Lagrange multipliers to solve this problem. The Lagrangian for this problem is given by:\n",
    "\n",
    "$$L(w,b,\\alpha) = \\frac{1}{2}||w||^2 - \\sum_{i=1}^{l}\\alpha_i[y_i(w^Tx_i + b) - 1]$$\n",
    "\n",
    "$$\\alpha_i \\geq 0 \\quad \\text{for} \\quad i = 1,2,...,l$$\n",
    "\n",
    "where $\\alpha_i$ are the Lagrange multipliers. The optimization problem can be solved by taking the partial derivatives of the Lagrangian with respect to $w$ and $b$ and setting them to zero. The solution is given by:\n",
    "\n",
    "$$\\frac{\\partial \\mathcal{L}}{\\partial \\mathbf{w}} = \\mathbf{w} - \\sum_{i=1}^{l} \\alpha_i y_i \\mathbf{x}_i = 0$$\n",
    "\n",
    "\n",
    "$$\\frac{\\partial \\mathcal{L}}{\\partial b} = -\\sum_{i=1}^{l} \\alpha_i y_i = 0$$\n",
    "\n",
    "Thus, we get:\n",
    "\n",
    "$$w = \\sum_{i=1}^{l} \\alpha_i y_i x_i$$\n",
    "\n",
    "and\n",
    "\n",
    "$$\\sum_{i=1}^{l} \\alpha_i y_i = 0$$"
   ]
  },
  {
   "cell_type": "markdown",
   "metadata": {},
   "source": [
    "\n",
    "## Dual Form\n",
    "\n",
    "The optimization problem can be converted into the dual form by substituting the value of $w$ back into the Lagrangian. \n",
    "\n",
    "\n",
    "$$\\mathcal{L}(\\alpha) = \\sum_{i=1}^{l} \\alpha_i - \\frac{1}{2} \\sum_{i=1}^{l} \\sum_{j=1}^{l} \\alpha_i \\alpha_j y_i y_j x_i^Tx_j$$\n",
    "\n",
    "\n",
    "From the dual form, we understand that the maximum margin hyperplane is a linear combination of the training examples. Namely, the maximization of the margin depends only on the dot product of $x_i$ and $x_j$. \n"
   ]
  },
  {
   "cell_type": "markdown",
   "metadata": {},
   "source": [
    "## Kernel SVM\n",
    "\n",
    "When the data is not linearly separable it is possible to map it into a higher-dimensional space where it can be linearly separated. However, this mapping is computationally expensive. To avoid this, we can use the kernel trick. The kernel trick allows us to compute the dot product of the mapped data without actually mapping it. The kernel function is defined as:\n",
    "\n",
    "$$K(x_i,x_j) = \\phi(x_i)^T\\phi(x_j)$$\n",
    "\n",
    "where $\\phi$ is the mapping function. The most common kernel functions are the linear kernel, polynomial kernel, and the Gaussian kernel.\n",
    "\n",
    "Applying the kernel function to the dual form we get:\n",
    "\n",
    "$$\\mathcal{L}(\\alpha) = \\sum_{i=1}^{l} \\alpha_i - \\frac{1}{2} \\sum_{i=1}^{l} \\sum_{j=1}^{l} \\alpha_i \\alpha_j y_i y_j K(x_i,x_j)$$"
   ]
  },
  {
   "cell_type": "markdown",
   "metadata": {},
   "source": [
    "## Prediction\n",
    "\n",
    "To predict the class of a new data point $x$ we can use the following formula:\n",
    "\n",
    "$$\\hat{y} = sign(\\sum_{i=1}^{l} \\alpha_i y_i K(x_i,x) + b)$$\n",
    "\n",
    "where $sign$ is the sign function."
   ]
  },
  {
   "cell_type": "markdown",
   "metadata": {},
   "source": [
    "## Dual Form Disadvantage\n",
    "\n",
    "Since not all data sets are linearly separable. There may be no hyperplane that splits the examples from one class from the examples of the other class. This is because the dual form only bound the Lagrange multiplires from below by zero. To over come this problem (Cortes & Vapnik, 1995) suggested to add the term $C$ and slack variables $\\xi_i$ to the optimization problem. The new optimization problem is given by:\n",
    "\n",
    "$$\\text{minimize} \\quad \\frac{1}{2}||w||^2 + C\\sum_{i=1}^{l}\\xi_i$$\n",
    "\n",
    " $$ \\text{subject to} \\quad y_i(w^Tx_i - b) \\geq 1 - \\xi_i$$\n",
    "\n",
    "where $C$ is the regularization parameter and $\\xi_i$ are the slack variables. \n",
    "\n",
    "When transforming the above optimization problem we change the bounds of the Lagrange multipliers from below by zero to $0 \\leq \\alpha_i \\leq C$."
   ]
  },
  {
   "cell_type": "markdown",
   "metadata": {},
   "source": [
    "## Sequential Minimal Optimization (SMO)\n",
    "\n",
    "The optimization problem can be solved using the Sequential Minimal Optimization (SMO) algorithm introduced by (Platt, 1998).  In the research paper the author uses the following formula for defining a hyperplane: $$y = w^Tx - b$$ and the dual form optimization problem is given by:\n",
    "\n",
    "$$\\min_{\\alpha}\\Psi(\\alpha)  = \\frac{1}{2} \\sum_{i=1}^{l} \\sum_{j=1}^{l} \\alpha_i \\alpha_j y_i y_j K(x_i,x_j) - \\sum_{i=1}^{l} \\alpha_i$$\n",
    "\n",
    "Namley, he multiplied the dual form by -1 to convert the maximization problem into a minimization problem.\n",
    "\n",
    "The above changes the prediction formula to:\n",
    "\n",
    "$$\\hat{y} = sign(\\sum_{i=1}^{l} \\alpha_i y_i K(x_i,x) - b)$$\n",
    "\n",
    "### Solving for Two Lagrange Multipliers\n",
    "\n",
    "The SMO algorithm works by choosing two Lagrange multipliers $\\alpha_i$ and $\\alpha_j$ and optimizing them while keeping the other multipliers constant. To compute for the two multipliers SMO first computes the constraints on these multipliers and then solves for the constrained minimum. The fact that we use only two multipliers at a time makes it easy to display the algorithm in a 2D space. The constraint $0 \\leq \\alpha_i \\leq C$ cause the multipliers to lie on a box and the constraint $\\sum_{i=1}^{l} \\alpha_i y_i = 0$ cause the multipliers to lie on a  diagonal line. Thus, the constrained minimum of the objective function lies on the diagonal line. \n",
    "\n",
    "The way we can compute the ends of the diagonal line is by using the following formulas:\n",
    "\n",
    "$$ L = \\max(0, \\alpha_j - \\alpha_i)*t + \\max(0,\\alpha_j+\\alpha_i+C)*(1-t) , H = \\min(C, C + \\alpha_j - \\alpha_i)*t + \\min(C, \\alpha_j + \\alpha_i) *(1-t)$$\n",
    "\n",
    "Where $t = 1$ if $y_i \\neq y_j$ and $t = 0$ if $y_i = y_j$.\n",
    "\n",
    "To understand whether the constrained optimum is minimum or maximum we can compute the second derivative of the objective function along the diagonal line. The second derivative is as follows:\n",
    "\n",
    "$$\\eta = K(x_i,x_i) + K(x_j,x_j) - 2K(x_i,x_j)$$\n",
    "\n",
    "if $\\eta > 0$ then the constrained optimum is minimum then there will be a minimum along the direction of the linear equality constraint in this case we can update the multipliers using the following formulas:\n",
    "\n",
    "$$\\alpha_j = \\alpha_j + \\frac{y_j(E_i - E_j)}{\\eta}$$\n",
    "\n",
    "Where $E_i$ and $E_j$ are the errors of the two multipliers (i.e. $E_i = f(x_i) - y_i$ and $E_j = f(x_j) - y_j$).\n",
    "\n",
    "On the next part we need to clip the multiplier $\\alpha_j$ to lie within the box. The clipping is done using the following formulas:\n",
    "\n",
    "$$\\alpha_{j}^{new, clipped} = \\min(\\max(\\alpha_{j}^{new}, L), H)$$\n",
    "\n",
    "And then update $\\alpha_i$ using the following formula:\n",
    "\n",
    "$$\\alpha_{i}^{new} = \\alpha_i + y_iy_j(\\alpha_j - \\alpha_{j}^{new, clipped})$$\n",
    "\n",
    "\n",
    "### Choosing the Multipliers\n",
    "\n",
    "The SMO algorithm chooses the two multipliers using the following criteria:\n",
    "\n",
    "1. The first multiplier is chosen by selecting the one that violates the KKT conditions the most. The KKT conditions are given by:\n",
    "\n",
    "$$\\alpha_i = 0 \\rightarrow y_i f(x_i) \\geq 1$$\n",
    "\n",
    "$$0 < \\alpha_i < C \\rightarrow y_i f(x_i) = 1$$\n",
    "\n",
    "$$\\alpha_i = C \\rightarrow y_i f(x_i) \\leq 1$$\n",
    "\n",
    "where $f(x_i) = \\sum_{i=1}^{l} \\alpha_i y_i K(x_i,x) - b$.\n",
    "\n",
    "2. The second multiplier is chosen by selecting the one that gives the maximum step size (i.e. $|E_i - E_j|$) which is one of many heuristics that can be used.\n",
    "\n",
    "In this notebook I will choose the multipliers by iterating over all the values of $\\alpha_i$ and choose $\\alpha_j$ randomly.\n",
    "\n",
    "\n",
    "### Computing the Bias Term (Threshold)\n",
    "\n",
    "The bias term b is computed after each step in order to fullfil the KKT conditions for both multipliers. We computed the bias term using the following formulas:\n",
    "\n",
    "$$b_1 = E_i + y_i K(x_i,x_i)(\\alpha_i^{new} - \\alpha_i) + y_j K(x_i,x_j)(\\alpha_j^{new} - \\alpha_j) + b$$\n",
    "\n",
    "$$b_2 = E_j + y_i K(x_i,x_j)(\\alpha_i^{new} - \\alpha_i) + y_j K(x_j,x_j)(\\alpha_j^{new} - \\alpha_j) + b$$\n",
    "\n",
    "If $0 < \\alpha_i < C$ then $b = b_1$ else if $0 < \\alpha_j < C$ then $b = b_2$ else $b = \\frac{b_1 + b_2}{2}$\n",
    "\n",
    "### Computing the Weights (Normal Vector)\n",
    "\n",
    "The weights are computed after each step using the following formula:\n",
    "\n",
    "$$w^{new} = w+y_i(\\alpha_{i}^{n} - \\alpha_i)x_i+y_j(\\alpha_{j}^{new,clipped} - \\alpha_j)x_j$$\n"
   ]
  },
  {
   "cell_type": "markdown",
   "metadata": {},
   "source": [
    "# Python Implementation\n",
    "\n",
    "On this part I will solve the dual form optimization problem using Numpy. The SMO algorithm will be implmented using the following steps:\n",
    "\n",
    "1. Initialize the Lagrange multipliers $\\alpha$ and the bias term $b$.\n",
    "2. Choose two Lagrange multipliers $\\alpha_i$ and $\\alpha_j$.\n",
    "3. Compute the error of the two multipliers.\n",
    "4. Compute the bounds of the two multipliers.\n",
    "5. Compute the second derivative of the objective function.\n",
    "6. Update the multipliers.\n",
    "7. Clip the multipliers.\n",
    "8. Compute the bias term.\n",
    "9. Compute the weights.\n",
    "10. Repeat steps 2-9 until convergence.\n",
    "\n",
    "Note that I will use the linear kernel function and will stop the algorithm when the number of iterations reaches a certain number.\n",
    "Also note that, I will not choose $\\alpha_i$ based on the KKT conditions but will iterate over the values of $\\alpha_i$ and choose $\\alpha_j$ randomly."
   ]
  },
  {
   "cell_type": "code",
   "execution_count": 144,
   "metadata": {},
   "outputs": [],
   "source": [
    "# Load the iris dataset\n",
    "iris = load_iris()\n",
    "X = iris.data[:,:2]\n",
    "y = iris.target\n",
    "y = y[:100]\n",
    "y[y==0] = -1\n",
    "X = X[:100,:]"
   ]
  },
  {
   "cell_type": "markdown",
   "metadata": {},
   "source": [
    "## Helpers "
   ]
  },
  {
   "cell_type": "code",
   "execution_count": 343,
   "metadata": {},
   "outputs": [],
   "source": [
    "def ChooseJ(i,m):\n",
    "    j = np.random.randint(0,m)\n",
    "    while j == i:\n",
    "        j = np.random.randint(0,m)\n",
    "    return j\n",
    "\n",
    "def Eta(X,i,j):\n",
    "    return np.dot(X[i],X[i]) + np.dot(X[j],X[j]) - 2*np.dot(X[i],X[j]) \n",
    "\n",
    "def ComputeBounds(y,alpha,i,j,C):\n",
    "    t = (y[i] != y[j])*1\n",
    "    H = min(C,C+alpha[j] - alpha[i])*t + min(C, alpha[j] + alpha[i])*(1-t)\n",
    "    L = max(0, alpha[j] - alpha[i])*t + max(0, alpha[j] + alpha[i] - C)*(1-t)\n",
    "    return L,H\n",
    "\n",
    "def Err(X, y, alpha, b, i):\n",
    "    u_i = np.dot((alpha*y).T,np.dot(X, X[i].T)) - b\n",
    "    return u_i - y[i]\n",
    "\n",
    "def ClipAlpha(alpha,H,L,j):\n",
    "    if alpha[j] >= H:\n",
    "        alpha[j] = H\n",
    "    elif alpha[j] <= L:\n",
    "        alpha[j] = L\n",
    "    return alpha[j]\n",
    "\n",
    "def ComputeB(x_i,x_j,y_i,y_j,alpha_i,alpha_j,old_alpha_i,old_alpha_j,Ei,Ej,b,C):\n",
    "\n",
    "    b1 = Ei+y_i*(alpha_i - old_alpha_i)*np.dot(x_i,x_i)+y_j*(alpha_j-old_alpha_j)*np.dot(x_i,x_j)+b\n",
    "    b2 = Ej+y_i*(alpha_i - old_alpha_i)*np.dot(x_i,x_j)+y_j*(alpha_j-old_alpha_j)*np.dot(x_j,x_j)+b\n",
    "\n",
    "    if 0 < alpha_i < C:\n",
    "        b = b1\n",
    "    elif 0 < alpha_j < C:\n",
    "        b = b2\n",
    "    else:\n",
    "        b = (b1+b2)/2\n",
    "    return b"
   ]
  },
  {
   "cell_type": "markdown",
   "metadata": {},
   "source": [
    "## SMO Implementation"
   ]
  },
  {
   "cell_type": "code",
   "execution_count": 383,
   "metadata": {},
   "outputs": [],
   "source": [
    "def SMO(X,y,C=1,tol=1e-3, max_passes = 1000):\n",
    "    m,n = X.shape\n",
    "    alpha = np.zeros(m)\n",
    "    b = 0\n",
    "    w = np.zeros(n)\n",
    "\n",
    "    passes = 0\n",
    "\n",
    "    while passes < max_passes:\n",
    "\n",
    "        for i in range(m):\n",
    "            j = ChooseJ(i,m)\n",
    "            L,H = ComputeBounds(y,alpha,i,j,C)\n",
    "            eta = Eta(X,i,j)\n",
    "            if eta <= 0:\n",
    "                continue\n",
    "            alpha_i_old = alpha[i]\n",
    "            alpha_j_old = alpha[j]\n",
    "\n",
    "            Ei = Err(X,y,alpha,b,i)\n",
    "            Ej = Err(X,y,alpha,b,j)\n",
    "\n",
    "            alpha[j] = alpha_j_old + y[j]*(Ei - Ej)/eta\n",
    "            alpha[j] = ClipAlpha(alpha,H,L,j)\n",
    "\n",
    "            if abs(alpha[j] - alpha_j_old) < tol:\n",
    "                continue\n",
    "\n",
    "            alpha[i] = alpha_i_old + y[i]*y[j]*(alpha_j_old - alpha[j])\n",
    "\n",
    "            b = ComputeB(X[i],X[j],y[i],y[j],alpha[i],alpha[j],alpha_i_old,alpha_j_old,Ei,Ej,b,C)\n",
    "            w += y[i]*(alpha[i] - alpha_i_old)*X[i] + y[j]*(alpha[j] - alpha_j_old)*X[j]\n",
    "\n",
    "        if alpha\n",
    "        passes += 1\n",
    "    return alpha,b,w"
   ]
  },
  {
   "cell_type": "code",
   "execution_count": 384,
   "metadata": {},
   "outputs": [],
   "source": [
    "alpha,b,w = SMO(X,y)"
   ]
  },
  {
   "cell_type": "code",
   "execution_count": 391,
   "metadata": {},
   "outputs": [
    {
     "name": "stdout",
     "output_type": "stream",
     "text": [
      "Accuracy:  1.0\n"
     ]
    }
   ],
   "source": [
    "y_hat = np.sign(np.dot(X,w) - b)\n",
    "acc = np.mean(y_hat == y)\n",
    "print('Accuracy: ',acc)"
   ]
  },
  {
   "cell_type": "markdown",
   "metadata": {},
   "source": [
    "## Visualization"
   ]
  },
  {
   "cell_type": "code",
   "execution_count": 418,
   "metadata": {},
   "outputs": [],
   "source": [
    "def createGrid(X,w,b):\n",
    "    min1, max1 = X[:, 0].min()-1, X[:, 0].max()+1\n",
    "    min2, max2 = X[:, 1].min()-1, X[:, 1].max()+1\n",
    "    x1grid = np.arange(min1, max1, 0.1)\n",
    "    x2grid = np.arange(min2, max2, 0.1)\n",
    "    xx, yy = np.meshgrid(x1grid, x2grid)\n",
    "    r1, r2 = xx.flatten(), yy.flatten()\n",
    "    r1, r2 = r1.reshape((len(r1), 1)), r2.reshape((len(r2), 1))\n",
    "    grid = np.hstack((r1,r2))\n",
    "    Z = np.sign(np.dot(grid,w) - b)\n",
    "    zz = Z.reshape(xx.shape)\n",
    "    return xx,yy,zz"
   ]
  },
  {
   "cell_type": "code",
   "execution_count": 419,
   "metadata": {},
   "outputs": [],
   "source": [
    "def plot_decision_boundary(X,w,b):\n",
    "    xx,yy,zz = createGrid(X,w,b)\n",
    "    plt.contourf(xx,yy,zz,cmap='Paired')\n",
    "    for class_value in [-1,1]:\n",
    "        row_ix = np.where(y == class_value)\n",
    "        plt.scatter(X[row_ix, 0], X[row_ix, 1], label=f'Class {class_value}')\n",
    "    plt.xlabel('Sepal Length')\n",
    "    plt.ylabel('Sepal Width')\n",
    "    plt.legend()\n",
    "    plt.title('SVM Decision Boundary (Linear Kernel) SMO Algorithm')\n",
    "    plt.show()"
   ]
  },
  {
   "cell_type": "code",
   "execution_count": 431,
   "metadata": {},
   "outputs": [
    {
     "data": {
      "image/png": "[encoded data removed]",
      "text/plain": [
       "<Figure size 640x480 with 1 Axes>"
      ]
     },
     "metadata": {},
     "output_type": "display_data"
    }
   ],
   "source": [
    "import seaborn as sns\n",
    "\n",
    "df = pd.DataFrame(X,columns=['Sepal Length','Sepal Width'])\n",
    "df = pd.concat([df,pd.Series(y,name='Class')],axis=1)\n",
    "sns.scatterplot(data=df,x='Sepal Length',y='Sepal Width',hue='Class');\n",
    "plt.title('Iris Dataset')\n",
    "plt.show()"
   ]
  },
  {
   "cell_type": "code",
   "execution_count": 422,
   "metadata": {},
   "outputs": [
    {
     "data": {
      "image/png": "[encoded data removed]",
      "text/plain": [
       "<Figure size 640x480 with 1 Axes>"
      ]
     },
     "metadata": {},
     "output_type": "display_data"
    }
   ],
   "source": [
    "plot_decision_boundary(X,w,b)"
   ]
  },
  {
   "cell_type": "markdown",
   "metadata": {},
   "source": [
    "# Conclusion\n",
    "\n",
    "In this notebook, I implemented the SMO algorithm for finding the optimal Lagrange multipliers of the SVM algorithm optimization problem. The model succeed on prediction the classes of the data points. However, the iris data is a simple dataset and the model might need some optimization (hyperparameter tuning) to work on more complex datasets."
   ]
  },
  {
   "cell_type": "markdown",
   "metadata": {},
   "source": [
    "# Discussion\n",
    "\n",
    "While the SVM algorithm seem to have managed to classify the unseen data (test data) correctly, it is important to note that the algorithm needs to be tuned.  In practice, the hyperparameters are optimized using tuning techniques which are not covered by this notebook. In addition, the SVM algorithm can be extended to solve multi-class classification problems which is also not covered by this notebook."
   ]
  },
  {
   "cell_type": "markdown",
   "metadata": {},
   "source": [
    "# Bibliography\n",
    "\n",
    "Cortes, C., & Vapnik, V. (1995). Support-vector networks. Machine learning, 20(3), 273-297.\n",
    "\n",
    "Jakkula, V. (2006). Tutorial on support vector machine (svm). School of EECS, Washington State University, 37(2.5), 3.\n",
    "\n",
    "MIT OpenCourseWare. (2014, January 10). 16. Learning: support vector machines [Video]. YouTube. https://www.youtube.com/watch?v=_PwhiWxHK8o\n",
    "\n",
    "Platt, J. (1998). Sequential minimal optimization: A fast algorithm for training support vector machines.\n",
    "\n"
   ]
  }
 ],
 "metadata": {
  "kernelspec": {
   "display_name": "Python 3",
   "language": "python",
   "name": "python3"
  },
  "language_info": {
   "codemirror_mode": {
    "name": "ipython",
    "version": 3
   },
   "file_extension": ".py",
   "mimetype": "text/x-python",
   "name": "python",
   "nbconvert_exporter": "python",
   "pygments_lexer": "ipython3",
   "version": "3.11.5"
  }
 },
 "nbformat": 4,
 "nbformat_minor": 2
}
