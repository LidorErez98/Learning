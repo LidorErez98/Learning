{
 "cells": [
  {
   "cell_type": "code",
   "execution_count": 2,
   "metadata": {},
   "outputs": [],
   "source": [
    "import numpy as np\n",
    "import scipy.stats as stats"
   ]
  },
  {
   "cell_type": "code",
   "execution_count": 208,
   "metadata": {},
   "outputs": [],
   "source": [
    "# Initial values\n",
    "values = np.array([60,100,120])\n",
    "weights = np.array([10,20,30])\n",
    "num_items = len(values)\n",
    "capacity = 50\n",
    "\n",
    "th = 1e-5 # threshold\n",
    "gamma = 1 # discount factor"
   ]
  },
  {
   "cell_type": "code",
   "execution_count": 209,
   "metadata": {},
   "outputs": [],
   "source": [
    "class Item:\n",
    "    def __init__(self, name, weight, value):\n",
    "        self.name = name\n",
    "        self.weight = weight\n",
    "        self.value = value\n",
    "\n",
    "\n",
    "items  = tuple([Item(f'Item_{i+1}', weights[i], values[i]) for i in range(len(values))])"
   ]
  },
  {
   "cell_type": "code",
   "execution_count": 210,
   "metadata": {},
   "outputs": [],
   "source": [
    "def R(capacity, a,item):\n",
    "    if a == 1:\n",
    "        if item.weight <= capacity:\n",
    "            return item.value\n",
    "    return 0"
   ]
  },
  {
   "cell_type": "code",
   "execution_count": 211,
   "metadata": {},
   "outputs": [],
   "source": [
    "V = {}\n",
    "\n",
    "def bellman(V, capacity, items,items_in, gamma = gamma, th=th):\n",
    "            \n",
    "            if capacity <= 0 or not items:\n",
    "                    return 0\n",
    "            \n",
    "            new_items_in = items_in +  (items[0].name,)\n",
    "            state_include = (capacity,items[1:],new_items_in)\n",
    "\n",
    "            include_value = R(capacity,1,items[0]) + gamma * bellman(\n",
    "                V,capacity - items[0].weight,items[1:],new_items_in)\n",
    "            \n",
    "            V[state_include] = include_value\n",
    "\n",
    "            state_exclude = (capacity,items, items_in)\n",
    "\n",
    "            exclude_value = R(capacity,0,items[0]) + gamma * bellman(\n",
    "                V,capacity,items[1:],items_in)\n",
    "            \n",
    "            V[state_exclude] = exclude_value\n",
    "            \n",
    "                \n",
    "            \n",
    "            return max(include_value,exclude_value)"
   ]
  },
  {
   "cell_type": "code",
   "execution_count": 212,
   "metadata": {},
   "outputs": [
    {
     "data": {
      "text/plain": [
       "220"
      ]
     },
     "execution_count": 212,
     "metadata": {},
     "output_type": "execute_result"
    }
   ],
   "source": [
    "initial_capacity = capacity\n",
    "x = bellman(V, initial_capacity, items,())\n",
    "x"
   ]
  }
 ],
 "metadata": {
  "kernelspec": {
   "display_name": "modelim",
   "language": "python",
   "name": "python3"
  },
  "language_info": {
   "codemirror_mode": {
    "name": "ipython",
    "version": 3
   },
   "file_extension": ".py",
   "mimetype": "text/x-python",
   "name": "python",
   "nbconvert_exporter": "python",
   "pygments_lexer": "ipython3",
   "version": "3.8.19"
  }
 },
 "nbformat": 4,
 "nbformat_minor": 2
}
